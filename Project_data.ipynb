{
  "nbformat": 4,
  "nbformat_minor": 0,
  "metadata": {
    "colab": {
      "name": "Project_data",
      "provenance": [],
      "collapsed_sections": [],
      "authorship_tag": "ABX9TyPC2MaiUdD6YM94ygIyeUkM",
      "include_colab_link": true
    },
    "kernelspec": {
      "name": "python3",
      "display_name": "Python 3"
    },
    "language_info": {
      "name": "python"
    }
  },
  "cells": [
    {
      "cell_type": "markdown",
      "metadata": {
        "id": "view-in-github",
        "colab_type": "text"
      },
      "source": [
        "<a href=\"https://colab.research.google.com/github/Joshmen06/Project_data/blob/main/Project_data.ipynb\" target=\"_parent\"><img src=\"https://colab.research.google.com/assets/colab-badge.svg\" alt=\"Open In Colab\"/></a>"
      ]
    },
    {
      "cell_type": "code",
      "execution_count": 1,
      "metadata": {
        "id": "vjTZ7b8tZ35z"
      },
      "outputs": [],
      "source": [
        "import numpy as np"
      ]
    },
    {
      "cell_type": "code",
      "source": [
        "kag_data='/content/KAG_Conversion_Data.csv'\n",
        "data=np.genfromtxt(kag_data,delimiter=',',skip_header=1,encoding=None,dtype=str)\n",
        "data\n"
      ],
      "metadata": {
        "colab": {
          "base_uri": "https://localhost:8080/"
        },
        "id": "jFtSoA2caO7h",
        "outputId": "84f8f4e9-6406-4593-9d64-a67c28511525"
      },
      "execution_count": 9,
      "outputs": [
        {
          "output_type": "execute_result",
          "data": {
            "text/plain": [
              "array([['708746', '916', '103916', ..., '1.429999948', '2', '1'],\n",
              "       ['708749', '916', '103917', ..., '1.820000023', '2', '0'],\n",
              "       ['708771', '916', '103920', ..., '0', '1', '0'],\n",
              "       ...,\n",
              "       ['1314412', '1178', '179979', ..., '40.28999949', '2', '0'],\n",
              "       ['1314414', '1178', '179981', ..., '198.7100005', '8', '2'],\n",
              "       ['1314415', '1178', '179982', ..., '165.6099987', '5', '2']],\n",
              "      dtype='<U11')"
            ]
          },
          "metadata": {},
          "execution_count": 9
        }
      ]
    },
    {
      "cell_type": "code",
      "source": [
        "data_float=np.genfromtxt(kag_data,delimiter=',',skip_header=1,encoding=None,dtype=float)\n",
        "data_float"
      ],
      "metadata": {
        "colab": {
          "base_uri": "https://localhost:8080/"
        },
        "id": "Bd7PBnk4huKr",
        "outputId": "03938fa3-08a8-4e9c-b43b-062ce11a7d4e"
      },
      "execution_count": 23,
      "outputs": [
        {
          "output_type": "execute_result",
          "data": {
            "text/plain": [
              "array([[7.08746000e+05, 9.16000000e+02, 1.03916000e+05, ...,\n",
              "        1.42999995e+00, 2.00000000e+00, 1.00000000e+00],\n",
              "       [7.08749000e+05, 9.16000000e+02, 1.03917000e+05, ...,\n",
              "        1.82000002e+00, 2.00000000e+00, 0.00000000e+00],\n",
              "       [7.08771000e+05, 9.16000000e+02, 1.03920000e+05, ...,\n",
              "        0.00000000e+00, 1.00000000e+00, 0.00000000e+00],\n",
              "       ...,\n",
              "       [1.31441200e+06, 1.17800000e+03, 1.79979000e+05, ...,\n",
              "        4.02899995e+01, 2.00000000e+00, 0.00000000e+00],\n",
              "       [1.31441400e+06, 1.17800000e+03, 1.79981000e+05, ...,\n",
              "        1.98710001e+02, 8.00000000e+00, 2.00000000e+00],\n",
              "       [1.31441500e+06, 1.17800000e+03, 1.79982000e+05, ...,\n",
              "        1.65609999e+02, 5.00000000e+00, 2.00000000e+00]])"
            ]
          },
          "metadata": {},
          "execution_count": 23
        }
      ]
    },
    {
      "cell_type": "code",
      "source": [
        "xyz_camp=data[:,1]\n",
        "np.unique(xyz_camp)\n"
      ],
      "metadata": {
        "colab": {
          "base_uri": "https://localhost:8080/"
        },
        "id": "BuF6cl_Bb7Ru",
        "outputId": "2832742f-05a9-444b-af97-a73da1a02d08"
      },
      "execution_count": 13,
      "outputs": [
        {
          "output_type": "execute_result",
          "data": {
            "text/plain": [
              "array(['1178', '916', '936'], dtype='<U11')"
            ]
          },
          "metadata": {},
          "execution_count": 13
        }
      ]
    },
    {
      "cell_type": "code",
      "source": [
        "unique_id, count = np.unique(xyz_camp,return_counts=True)\n",
        "print(unique_id)\n",
        "print(count)"
      ],
      "metadata": {
        "colab": {
          "base_uri": "https://localhost:8080/"
        },
        "id": "M9f1W78Tdu1P",
        "outputId": "31f11768-c158-4aee-c528-c0f74cb0cf36"
      },
      "execution_count": 14,
      "outputs": [
        {
          "output_type": "stream",
          "name": "stdout",
          "text": [
            "['1178' '916' '936']\n",
            "[625  54 464]\n"
          ]
        }
      ]
    },
    {
      "cell_type": "code",
      "source": [
        "for i in range(len(unique_id)):\n",
        "  print('{} ran {} times'.format(unique_id[i],count[i]))"
      ],
      "metadata": {
        "colab": {
          "base_uri": "https://localhost:8080/"
        },
        "id": "Q917Y__heE-V",
        "outputId": "6d6ee25a-4e10-4df3-9620-155d569fd6a8"
      },
      "execution_count": 15,
      "outputs": [
        {
          "output_type": "stream",
          "name": "stdout",
          "text": [
            "1178 ran 625 times\n",
            "916 ran 54 times\n",
            "936 ran 464 times\n"
          ]
        }
      ]
    },
    {
      "cell_type": "code",
      "source": [
        "age=data[:,3]\n",
        "age"
      ],
      "metadata": {
        "colab": {
          "base_uri": "https://localhost:8080/"
        },
        "id": "muWYb2wXepw5",
        "outputId": "0e3b4878-d3d4-440b-91a2-e021f69e3664"
      },
      "execution_count": 16,
      "outputs": [
        {
          "output_type": "execute_result",
          "data": {
            "text/plain": [
              "array(['30-34', '30-34', '30-34', ..., '45-49', '45-49', '45-49'],\n",
              "      dtype='<U11')"
            ]
          },
          "metadata": {},
          "execution_count": 16
        }
      ]
    },
    {
      "cell_type": "code",
      "source": [
        "age_unique=np.unique(age)\n",
        "print(\"The different age groups :\")\n",
        "age_unique\n"
      ],
      "metadata": {
        "colab": {
          "base_uri": "https://localhost:8080/"
        },
        "id": "bLxae2jPfbby",
        "outputId": "76727bce-68ad-411b-f2e3-7eb7cc1ff01b"
      },
      "execution_count": 18,
      "outputs": [
        {
          "output_type": "stream",
          "name": "stdout",
          "text": [
            "The different age groups :\n"
          ]
        },
        {
          "output_type": "execute_result",
          "data": {
            "text/plain": [
              "array(['30-34', '35-39', '40-44', '45-49'], dtype='<U11')"
            ]
          },
          "metadata": {},
          "execution_count": 18
        }
      ]
    },
    {
      "cell_type": "code",
      "source": [
        "spent=data_float[:,8]\n",
        "spent"
      ],
      "metadata": {
        "colab": {
          "base_uri": "https://localhost:8080/"
        },
        "id": "VqguzJzPgFID",
        "outputId": "d349d177-def2-40a1-dfc2-43d45d9d12c2"
      },
      "execution_count": 24,
      "outputs": [
        {
          "output_type": "execute_result",
          "data": {
            "text/plain": [
              "array([  1.42999995,   1.82000002,   0.        , ...,  40.28999949,\n",
              "       198.7100005 , 165.6099987 ])"
            ]
          },
          "metadata": {},
          "execution_count": 24
        }
      ]
    },
    {
      "cell_type": "code",
      "source": [
        "avg_spent=spent.mean()\n",
        "avg_spent"
      ],
      "metadata": {
        "colab": {
          "base_uri": "https://localhost:8080/"
        },
        "id": "ff-rnSzYglsG",
        "outputId": "ae727d45-05e1-4b87-bf15-731a2447b1f4"
      },
      "execution_count": 25,
      "outputs": [
        {
          "output_type": "execute_result",
          "data": {
            "text/plain": [
              "51.36065613141295"
            ]
          },
          "metadata": {},
          "execution_count": 25
        }
      ]
    },
    {
      "cell_type": "code",
      "source": [
        "spent_min=spent.min()\n",
        "spent_min"
      ],
      "metadata": {
        "colab": {
          "base_uri": "https://localhost:8080/"
        },
        "id": "jEdWZwDgiDc9",
        "outputId": "fe9fb6ea-932e-4b63-c797-e07406b4e269"
      },
      "execution_count": 26,
      "outputs": [
        {
          "output_type": "execute_result",
          "data": {
            "text/plain": [
              "0.0"
            ]
          },
          "metadata": {},
          "execution_count": 26
        }
      ]
    },
    {
      "cell_type": "code",
      "source": [
        "spent_max=spent.max()\n",
        "spent_max"
      ],
      "metadata": {
        "colab": {
          "base_uri": "https://localhost:8080/"
        },
        "id": "xvIY0ffMiQKL",
        "outputId": "20402d3f-5c2d-49da-dea5-b15ccc9728c1"
      },
      "execution_count": 27,
      "outputs": [
        {
          "output_type": "execute_result",
          "data": {
            "text/plain": [
              "639.9499981"
            ]
          },
          "metadata": {},
          "execution_count": 27
        }
      ]
    },
    {
      "cell_type": "code",
      "source": [
        "click=data_float[:,7]\n",
        "Id=data_float[:,0]\n",
        "print(Id)\n",
        "click"
      ],
      "metadata": {
        "colab": {
          "base_uri": "https://localhost:8080/"
        },
        "id": "d7i5gwvwiX_7",
        "outputId": "2972c7e8-0acc-48ae-f148-a5aac8c25c8e"
      },
      "execution_count": 28,
      "outputs": [
        {
          "output_type": "stream",
          "name": "stdout",
          "text": [
            "[ 708746.  708749.  708771. ... 1314412. 1314414. 1314415.]\n"
          ]
        },
        {
          "output_type": "execute_result",
          "data": {
            "text/plain": [
              "array([  1.,   2.,   0., ...,  28., 135., 114.])"
            ]
          },
          "metadata": {},
          "execution_count": 28
        }
      ]
    },
    {
      "cell_type": "code",
      "source": [
        "max_click=click.max()\n",
        "max_click"
      ],
      "metadata": {
        "colab": {
          "base_uri": "https://localhost:8080/"
        },
        "id": "u0gd1fbZi-L7",
        "outputId": "2413409e-bd10-48c3-82ce-157a7bd88820"
      },
      "execution_count": 29,
      "outputs": [
        {
          "output_type": "execute_result",
          "data": {
            "text/plain": [
              "421.0"
            ]
          },
          "metadata": {},
          "execution_count": 29
        }
      ]
    },
    {
      "cell_type": "code",
      "source": [
        "print('Id having maximum number of clicks',Id[click==421])"
      ],
      "metadata": {
        "colab": {
          "base_uri": "https://localhost:8080/"
        },
        "id": "Breu6A3sjQeL",
        "outputId": "483a4c3d-5fac-4d70-bbcd-9263fe612f63"
      },
      "execution_count": 30,
      "outputs": [
        {
          "output_type": "stream",
          "name": "stdout",
          "text": [
            "Id having maximum number of clicks [1121814.]\n"
          ]
        }
      ]
    },
    {
      "cell_type": "code",
      "source": [
        "approved_conv=data_float[:,10]\n",
        "approved_conv"
      ],
      "metadata": {
        "colab": {
          "base_uri": "https://localhost:8080/"
        },
        "id": "iAZNE6e3jkgk",
        "outputId": "0c7ce30a-b400-40d1-84cd-5382271647bf"
      },
      "execution_count": 31,
      "outputs": [
        {
          "output_type": "execute_result",
          "data": {
            "text/plain": [
              "array([1., 0., 0., ..., 0., 2., 2.])"
            ]
          },
          "metadata": {},
          "execution_count": 31
        }
      ]
    },
    {
      "cell_type": "code",
      "source": [
        "print('Total people bought the product after seeing the ad with most clicks',approved_conv[click==421])"
      ],
      "metadata": {
        "colab": {
          "base_uri": "https://localhost:8080/"
        },
        "id": "AFNbLefTkGpK",
        "outputId": "d9ca625a-1216-4cbe-aa42-38ec84323528"
      },
      "execution_count": 32,
      "outputs": [
        {
          "output_type": "stream",
          "name": "stdout",
          "text": [
            "Total people bought the product after seeing the ad with most clicks [13.]\n"
          ]
        }
      ]
    },
    {
      "cell_type": "code",
      "source": [
        "max_purchase=approved_conv.max()\n",
        "max_purchase"
      ],
      "metadata": {
        "colab": {
          "base_uri": "https://localhost:8080/"
        },
        "id": "K5MgjdQ1k-HD",
        "outputId": "b3eadc96-79ab-480f-f954-a1b5ba76669b"
      },
      "execution_count": 34,
      "outputs": [
        {
          "output_type": "execute_result",
          "data": {
            "text/plain": [
              "21.0"
            ]
          },
          "metadata": {},
          "execution_count": 34
        }
      ]
    },
    {
      "cell_type": "code",
      "source": [
        "if max_purchase > 13:\n",
        "  print('No, It is not the max number of purchases in the dataset ')\n",
        "else:\n",
        "  print('Yes , it is the max number of purchases in the dataset') "
      ],
      "metadata": {
        "colab": {
          "base_uri": "https://localhost:8080/"
        },
        "id": "K_bpnrzllTDP",
        "outputId": "e17c8828-3d08-418e-8914-0bb22107d974"
      },
      "execution_count": 35,
      "outputs": [
        {
          "output_type": "stream",
          "name": "stdout",
          "text": [
            "No, It is not the max number of purchases in the dataset \n"
          ]
        }
      ]
    },
    {
      "cell_type": "code",
      "source": [
        "data_float[approved_conv==21]"
      ],
      "metadata": {
        "colab": {
          "base_uri": "https://localhost:8080/"
        },
        "id": "Mq02mcd8mEqD",
        "outputId": "dabd851d-f642-4961-9759-7304886257d6"
      },
      "execution_count": 36,
      "outputs": [
        {
          "output_type": "execute_result",
          "data": {
            "text/plain": [
              "array([[1.12110400e+06, 1.17800000e+03, 1.44533000e+05,            nan,\n",
              "                   nan, 1.60000000e+01, 2.08066600e+06, 2.02000000e+02,\n",
              "        3.60150001e+02, 4.00000000e+01, 2.10000000e+01]])"
            ]
          },
          "metadata": {},
          "execution_count": 36
        }
      ]
    }
  ]
}